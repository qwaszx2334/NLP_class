{
 "cells": [
  {
   "cell_type": "code",
   "execution_count": 1,
   "metadata": {},
   "outputs": [],
   "source": [
    "import pandas as pd\n",
    "import numpy as np"
   ]
  },
  {
   "cell_type": "markdown",
   "metadata": {},
   "source": [
    "# 数据读取"
   ]
  },
  {
   "cell_type": "code",
   "execution_count": 2,
   "metadata": {},
   "outputs": [],
   "source": [
    "datas=pd.read_csv('ISEAR.csv',header=None)"
   ]
  },
  {
   "cell_type": "code",
   "execution_count": 3,
   "metadata": {},
   "outputs": [
    {
     "data": {
      "text/html": [
       "<div>\n",
       "<style scoped>\n",
       "    .dataframe tbody tr th:only-of-type {\n",
       "        vertical-align: middle;\n",
       "    }\n",
       "\n",
       "    .dataframe tbody tr th {\n",
       "        vertical-align: top;\n",
       "    }\n",
       "\n",
       "    .dataframe thead th {\n",
       "        text-align: right;\n",
       "    }\n",
       "</style>\n",
       "<table border=\"1\" class=\"dataframe\">\n",
       "  <thead>\n",
       "    <tr style=\"text-align: right;\">\n",
       "      <th></th>\n",
       "      <th>0</th>\n",
       "      <th>1</th>\n",
       "      <th>2</th>\n",
       "    </tr>\n",
       "  </thead>\n",
       "  <tbody>\n",
       "    <tr>\n",
       "      <th>0</th>\n",
       "      <td>joy</td>\n",
       "      <td>On days when I feel close to my partner and ot...</td>\n",
       "      <td>NaN</td>\n",
       "    </tr>\n",
       "    <tr>\n",
       "      <th>1</th>\n",
       "      <td>fear</td>\n",
       "      <td>Every time I imagine that someone I love or I ...</td>\n",
       "      <td>NaN</td>\n",
       "    </tr>\n",
       "    <tr>\n",
       "      <th>2</th>\n",
       "      <td>anger</td>\n",
       "      <td>When I had been obviously unjustly treated and...</td>\n",
       "      <td>NaN</td>\n",
       "    </tr>\n",
       "    <tr>\n",
       "      <th>3</th>\n",
       "      <td>sadness</td>\n",
       "      <td>When I think about the short time that we live...</td>\n",
       "      <td>NaN</td>\n",
       "    </tr>\n",
       "    <tr>\n",
       "      <th>4</th>\n",
       "      <td>disgust</td>\n",
       "      <td>At a gathering I found myself involuntarily si...</td>\n",
       "      <td>NaN</td>\n",
       "    </tr>\n",
       "  </tbody>\n",
       "</table>\n",
       "</div>"
      ],
      "text/plain": [
       "         0                                                  1    2\n",
       "0      joy  On days when I feel close to my partner and ot...  NaN\n",
       "1     fear  Every time I imagine that someone I love or I ...  NaN\n",
       "2    anger  When I had been obviously unjustly treated and...  NaN\n",
       "3  sadness  When I think about the short time that we live...  NaN\n",
       "4  disgust  At a gathering I found myself involuntarily si...  NaN"
      ]
     },
     "execution_count": 3,
     "metadata": {},
     "output_type": "execute_result"
    }
   ],
   "source": [
    "datas.head()"
   ]
  },
  {
   "cell_type": "markdown",
   "metadata": {},
   "source": [
    "## 拆分训练集测试集"
   ]
  },
  {
   "cell_type": "code",
   "execution_count": 4,
   "metadata": {},
   "outputs": [],
   "source": [
    "from sklearn.model_selection import train_test_split\n",
    "x=datas[1].values.tolist()\n",
    "y=datas[0].values.tolist()\n",
    "\n",
    "x_t,x_v,y_t,y_v=train_test_split(x,y,test_size=0.2,random_state=42)"
   ]
  },
  {
   "cell_type": "markdown",
   "metadata": {},
   "source": [
    "## 转换词向量"
   ]
  },
  {
   "cell_type": "code",
   "execution_count": 5,
   "metadata": {},
   "outputs": [],
   "source": [
    "from sklearn.feature_extraction.text import TfidfVectorizer\n",
    "vec=TfidfVectorizer()\n",
    "\n",
    "x_t=vec.fit_transform(x_t)\n",
    "x_v=vec.transform(x_v)"
   ]
  },
  {
   "cell_type": "code",
   "execution_count": 6,
   "metadata": {},
   "outputs": [
    {
     "data": {
      "text/plain": [
       "<6012x8019 sparse matrix of type '<class 'numpy.float64'>'\n",
       "\twith 105216 stored elements in Compressed Sparse Row format>"
      ]
     },
     "execution_count": 6,
     "metadata": {},
     "output_type": "execute_result"
    }
   ],
   "source": [
    "x_t"
   ]
  },
  {
   "cell_type": "code",
   "execution_count": 7,
   "metadata": {},
   "outputs": [
    {
     "data": {
      "text/plain": [
       "<1504x8019 sparse matrix of type '<class 'numpy.float64'>'\n",
       "\twith 25350 stored elements in Compressed Sparse Row format>"
      ]
     },
     "execution_count": 7,
     "metadata": {},
     "output_type": "execute_result"
    }
   ],
   "source": [
    "x_v"
   ]
  },
  {
   "cell_type": "markdown",
   "metadata": {},
   "source": [
    "# 构建模型"
   ]
  },
  {
   "cell_type": "markdown",
   "metadata": {},
   "source": [
    "## 逻辑回归"
   ]
  },
  {
   "cell_type": "code",
   "execution_count": 8,
   "metadata": {},
   "outputs": [
    {
     "name": "stderr",
     "output_type": "stream",
     "text": [
      "C:\\Users\\Wang\\Anaconda3\\lib\\site-packages\\sklearn\\linear_model\\logistic.py:433: FutureWarning: Default solver will be changed to 'lbfgs' in 0.22. Specify a solver to silence this warning.\n",
      "  FutureWarning)\n",
      "C:\\Users\\Wang\\Anaconda3\\lib\\site-packages\\sklearn\\linear_model\\logistic.py:460: FutureWarning: Default multi_class will be changed to 'auto' in 0.22. Specify the multi_class option to silence this warning.\n",
      "  \"this warning.\", FutureWarning)\n",
      "C:\\Users\\Wang\\Anaconda3\\lib\\site-packages\\sklearn\\model_selection\\_split.py:652: Warning: The least populated class in y has only 1 members, which is too few. The minimum number of members in any class cannot be less than n_splits=5.\n",
      "  % (min_groups, self.n_splits)), Warning)\n",
      "C:\\Users\\Wang\\Anaconda3\\lib\\site-packages\\sklearn\\linear_model\\logistic.py:433: FutureWarning: Default solver will be changed to 'lbfgs' in 0.22. Specify a solver to silence this warning.\n",
      "  FutureWarning)\n",
      "C:\\Users\\Wang\\Anaconda3\\lib\\site-packages\\sklearn\\linear_model\\logistic.py:460: FutureWarning: Default multi_class will be changed to 'auto' in 0.22. Specify the multi_class option to silence this warning.\n",
      "  \"this warning.\", FutureWarning)\n"
     ]
    },
    {
     "name": "stdout",
     "output_type": "stream",
     "text": [
      "{'C': 5}\n"
     ]
    }
   ],
   "source": [
    "from sklearn.linear_model import LogisticRegression\n",
    "from sklearn.model_selection import GridSearchCV#交叉验证\n",
    "\n",
    "param={'C':[0.00001,0.0001,0.01,0.005,0.1,0.5,1,2,5,10]}#正则化的强度\n",
    "\n",
    "lr=LogisticRegression()\n",
    "lr.fit(x_t,y_t).score(x_v,y_v)\n",
    "\n",
    "clf=GridSearchCV(lr,param,cv=5)\n",
    "clf.fit(x_t,y_t)\n",
    "clf.score(x_v,y_v)\n",
    "print(clf.best_params_)"
   ]
  },
  {
   "cell_type": "markdown",
   "metadata": {},
   "source": [
    "### 混淆矩阵"
   ]
  },
  {
   "cell_type": "code",
   "execution_count": 9,
   "metadata": {},
   "outputs": [
    {
     "name": "stdout",
     "output_type": "stream",
     "text": [
      "[[101  35  17  26  11  18  19]\n",
      " [ 23 122  14  18   8   5  14]\n",
      " [ 12   7 141  12   8  11   9]\n",
      " [ 25  10  11 110  12  17  24]\n",
      " [  5   9   8   9 180  13   9]\n",
      " [ 20  16  12   6  18 126   7]\n",
      " [ 23  23  17  33  18   8 104]]\n"
     ]
    }
   ],
   "source": [
    "from sklearn.metrics import confusion_matrix\n",
    "cmat=confusion_matrix(y_v,clf.predict(x_v)) #矩阵A[i,j]表示类别i被分类成类别j的个数\n",
    "print(cmat)"
   ]
  },
  {
   "cell_type": "code",
   "execution_count": 10,
   "metadata": {},
   "outputs": [],
   "source": [
    "right_cnt=0\n",
    "for i in range(cmat.shape[0]):\n",
    "    right_cnt+=cmat[i,i]"
   ]
  },
  {
   "cell_type": "code",
   "execution_count": 11,
   "metadata": {},
   "outputs": [
    {
     "name": "stdout",
     "output_type": "stream",
     "text": [
      "0.5877659574468085\n"
     ]
    }
   ],
   "source": [
    "right_rate=float(right_cnt)/cmat.sum()\n",
    "print(right_rate)"
   ]
  },
  {
   "cell_type": "markdown",
   "metadata": {},
   "source": [
    "## 神经网络"
   ]
  },
  {
   "cell_type": "code",
   "execution_count": 12,
   "metadata": {},
   "outputs": [
    {
     "name": "stderr",
     "output_type": "stream",
     "text": [
      "Using TensorFlow backend.\n"
     ]
    }
   ],
   "source": [
    "import keras\n",
    "from keras.models import Sequential\n",
    "from keras.layers import Dense,Dropout\n",
    "from keras.optimizers import SGD"
   ]
  },
  {
   "cell_type": "code",
   "execution_count": 13,
   "metadata": {},
   "outputs": [],
   "source": [
    "#one-hot 编码\n",
    "m={\n",
    "    'anger':0,\n",
    "    'disgust':1,\n",
    "    'fear':2,\n",
    "    'guilt':3,\n",
    "    'guit':4,\n",
    "    'joy':5,\n",
    "    'sadness':6,\n",
    "    'shame':7\n",
    "}"
   ]
  },
  {
   "cell_type": "code",
   "execution_count": 24,
   "metadata": {},
   "outputs": [],
   "source": [
    "y_t_hot=[]\n",
    "for i in y_t:\n",
    "    t=np.zeros(8)\n",
    "    t[m[i]]=1\n",
    "    y_t_hot.append(list(t))\n",
    "y_t_hot=np.array(y_t_hot)"
   ]
  },
  {
   "cell_type": "code",
   "execution_count": 25,
   "metadata": {},
   "outputs": [],
   "source": [
    "y_v_hot=[]\n",
    "for i in y_v:\n",
    "    t=np.zeros(8)\n",
    "    t[m[i]]=1\n",
    "    y_v_hot.append(list(t))\n",
    "y_v_hot=np.array(y_v_hot)"
   ]
  },
  {
   "cell_type": "code",
   "execution_count": 21,
   "metadata": {},
   "outputs": [
    {
     "data": {
      "text/plain": [
       "array([[0., 0., 0., ..., 0., 0., 1.],\n",
       "       [0., 0., 0., ..., 0., 0., 0.],\n",
       "       [0., 0., 0., ..., 1., 0., 0.],\n",
       "       ...,\n",
       "       [0., 0., 1., ..., 0., 0., 0.],\n",
       "       [0., 0., 1., ..., 0., 0., 0.],\n",
       "       [0., 0., 1., ..., 0., 0., 0.]])"
      ]
     },
     "execution_count": 21,
     "metadata": {},
     "output_type": "execute_result"
    }
   ],
   "source": [
    "np.array(y_t_hot)"
   ]
  },
  {
   "cell_type": "code",
   "execution_count": 17,
   "metadata": {},
   "outputs": [
    {
     "name": "stderr",
     "output_type": "stream",
     "text": [
      "WARNING: Logging before flag parsing goes to stderr.\n",
      "W1015 15:49:16.586622  7396 deprecation_wrapper.py:119] From C:\\Users\\Wang\\Anaconda3\\lib\\site-packages\\keras\\backend\\tensorflow_backend.py:74: The name tf.get_default_graph is deprecated. Please use tf.compat.v1.get_default_graph instead.\n",
      "\n",
      "W1015 15:49:16.609635  7396 deprecation_wrapper.py:119] From C:\\Users\\Wang\\Anaconda3\\lib\\site-packages\\keras\\backend\\tensorflow_backend.py:517: The name tf.placeholder is deprecated. Please use tf.compat.v1.placeholder instead.\n",
      "\n",
      "W1015 15:49:16.614639  7396 deprecation_wrapper.py:119] From C:\\Users\\Wang\\Anaconda3\\lib\\site-packages\\keras\\backend\\tensorflow_backend.py:4138: The name tf.random_uniform is deprecated. Please use tf.random.uniform instead.\n",
      "\n",
      "W1015 15:49:16.641658  7396 deprecation_wrapper.py:119] From C:\\Users\\Wang\\Anaconda3\\lib\\site-packages\\keras\\backend\\tensorflow_backend.py:133: The name tf.placeholder_with_default is deprecated. Please use tf.compat.v1.placeholder_with_default instead.\n",
      "\n",
      "W1015 15:49:16.651670  7396 deprecation.py:506] From C:\\Users\\Wang\\Anaconda3\\lib\\site-packages\\keras\\backend\\tensorflow_backend.py:3445: calling dropout (from tensorflow.python.ops.nn_ops) with keep_prob is deprecated and will be removed in a future version.\n",
      "Instructions for updating:\n",
      "Please use `rate` instead of `keep_prob`. Rate should be set to `rate = 1 - keep_prob`.\n"
     ]
    }
   ],
   "source": [
    "model=Sequential()\n",
    "model.add(Dense(1024,input_shape=(8019,),activation='relu'))\n",
    "model.add(Dropout(0.2))\n",
    "model.add(Dense(128,activation='relu'))\n",
    "model.add(Dropout(0.2))\n",
    "model.add(Dense(32,activation='relu'))\n",
    "model.add(Dropout(0.2))\n",
    "model.add(Dense(8,activation='softmax'))"
   ]
  },
  {
   "cell_type": "code",
   "execution_count": 18,
   "metadata": {},
   "outputs": [
    {
     "name": "stdout",
     "output_type": "stream",
     "text": [
      "_________________________________________________________________\n",
      "Layer (type)                 Output Shape              Param #   \n",
      "=================================================================\n",
      "dense_1 (Dense)              (None, 1024)              8212480   \n",
      "_________________________________________________________________\n",
      "dropout_1 (Dropout)          (None, 1024)              0         \n",
      "_________________________________________________________________\n",
      "dense_2 (Dense)              (None, 128)               131200    \n",
      "_________________________________________________________________\n",
      "dropout_2 (Dropout)          (None, 128)               0         \n",
      "_________________________________________________________________\n",
      "dense_3 (Dense)              (None, 32)                4128      \n",
      "_________________________________________________________________\n",
      "dropout_3 (Dropout)          (None, 32)                0         \n",
      "_________________________________________________________________\n",
      "dense_4 (Dense)              (None, 8)                 264       \n",
      "=================================================================\n",
      "Total params: 8,348,072\n",
      "Trainable params: 8,348,072\n",
      "Non-trainable params: 0\n",
      "_________________________________________________________________\n"
     ]
    }
   ],
   "source": [
    "model.summary()"
   ]
  },
  {
   "cell_type": "code",
   "execution_count": 19,
   "metadata": {},
   "outputs": [
    {
     "name": "stderr",
     "output_type": "stream",
     "text": [
      "W1015 15:49:16.873822  7396 deprecation_wrapper.py:119] From C:\\Users\\Wang\\Anaconda3\\lib\\site-packages\\keras\\optimizers.py:790: The name tf.train.Optimizer is deprecated. Please use tf.compat.v1.train.Optimizer instead.\n",
      "\n",
      "W1015 15:49:16.884836  7396 deprecation_wrapper.py:119] From C:\\Users\\Wang\\Anaconda3\\lib\\site-packages\\keras\\backend\\tensorflow_backend.py:3295: The name tf.log is deprecated. Please use tf.math.log instead.\n",
      "\n"
     ]
    }
   ],
   "source": [
    "model.compile(loss='categorical_crossentropy',optimizer=SGD(lr=0.2),metrics=['accuracy'])"
   ]
  },
  {
   "cell_type": "code",
   "execution_count": 26,
   "metadata": {},
   "outputs": [
    {
     "name": "stderr",
     "output_type": "stream",
     "text": [
      "W1015 15:52:49.718073  7396 deprecation.py:323] From C:\\Users\\Wang\\Anaconda3\\lib\\site-packages\\tensorflow\\python\\ops\\math_grad.py:1250: add_dispatch_support.<locals>.wrapper (from tensorflow.python.ops.array_ops) is deprecated and will be removed in a future version.\n",
      "Instructions for updating:\n",
      "Use tf.where in 2.0, which has the same broadcast rule as np.where\n"
     ]
    },
    {
     "name": "stdout",
     "output_type": "stream",
     "text": [
      "Train on 6012 samples, validate on 1504 samples\n",
      "Epoch 1/20\n",
      "6012/6012 [==============================] - 19s 3ms/step - loss: 1.9788 - acc: 0.1475 - val_loss: 1.9535 - val_acc: 0.1390\n",
      "Epoch 2/20\n",
      "6012/6012 [==============================] - 27s 4ms/step - loss: 1.9483 - acc: 0.1658 - val_loss: 1.9365 - val_acc: 0.1370\n",
      "Epoch 3/20\n",
      "6012/6012 [==============================] - 34s 6ms/step - loss: 1.8886 - acc: 0.2359 - val_loss: 1.8856 - val_acc: 0.2188\n",
      "Epoch 4/20\n",
      "6012/6012 [==============================] - 36s 6ms/step - loss: 1.7536 - acc: 0.3160 - val_loss: 1.5865 - val_acc: 0.4109\n",
      "Epoch 5/20\n",
      "6012/6012 [==============================] - 23s 4ms/step - loss: 1.6182 - acc: 0.3920 - val_loss: 1.6663 - val_acc: 0.4036\n",
      "Epoch 6/20\n",
      "6012/6012 [==============================] - 21s 3ms/step - loss: 1.4980 - acc: 0.4513 - val_loss: 1.4351 - val_acc: 0.4887\n",
      "Epoch 7/20\n",
      "6012/6012 [==============================] - 20s 3ms/step - loss: 1.3867 - acc: 0.5055 - val_loss: 1.3355 - val_acc: 0.5246\n",
      "Epoch 8/20\n",
      "6012/6012 [==============================] - 22s 4ms/step - loss: 1.2921 - acc: 0.5422 - val_loss: 1.3979 - val_acc: 0.5160\n",
      "Epoch 9/20\n",
      "6012/6012 [==============================] - 21s 4ms/step - loss: 1.1887 - acc: 0.5860 - val_loss: 1.8636 - val_acc: 0.3225\n",
      "Epoch 10/20\n",
      "6012/6012 [==============================] - 22s 4ms/step - loss: 1.0945 - acc: 0.6189 - val_loss: 1.2707 - val_acc: 0.5552\n",
      "Epoch 11/20\n",
      "6012/6012 [==============================] - 21s 3ms/step - loss: 1.0565 - acc: 0.6372 - val_loss: 1.3221 - val_acc: 0.5273\n",
      "Epoch 12/20\n",
      "6012/6012 [==============================] - 21s 3ms/step - loss: 0.9773 - acc: 0.6665 - val_loss: 1.5094 - val_acc: 0.5007\n",
      "Epoch 13/20\n",
      "6012/6012 [==============================] - 21s 4ms/step - loss: 0.9011 - acc: 0.6974 - val_loss: 1.2157 - val_acc: 0.5884\n",
      "Epoch 14/20\n",
      "6012/6012 [==============================] - 21s 3ms/step - loss: 0.8910 - acc: 0.7046 - val_loss: 1.5211 - val_acc: 0.5113\n",
      "Epoch 15/20\n",
      "6012/6012 [==============================] - 20s 3ms/step - loss: 0.7741 - acc: 0.7423 - val_loss: 1.4294 - val_acc: 0.5213\n",
      "Epoch 16/20\n",
      "6012/6012 [==============================] - 21s 3ms/step - loss: 0.9484 - acc: 0.6908 - val_loss: 1.5650 - val_acc: 0.4820\n",
      "Epoch 17/20\n",
      "6012/6012 [==============================] - 21s 3ms/step - loss: 0.8003 - acc: 0.7385 - val_loss: 1.4569 - val_acc: 0.5366\n",
      "Epoch 18/20\n",
      "6012/6012 [==============================] - 20s 3ms/step - loss: 0.7201 - acc: 0.7748 - val_loss: 1.5831 - val_acc: 0.5213\n",
      "Epoch 19/20\n",
      "6012/6012 [==============================] - 21s 4ms/step - loss: 0.6943 - acc: 0.7756 - val_loss: 1.4380 - val_acc: 0.5279\n",
      "Epoch 20/20\n",
      "6012/6012 [==============================] - 21s 4ms/step - loss: 0.9135 - acc: 0.7091 - val_loss: 2.0826 - val_acc: 0.4289\n"
     ]
    },
    {
     "data": {
      "text/plain": [
       "<keras.callbacks.History at 0x93e3d30b70>"
      ]
     },
     "execution_count": 26,
     "metadata": {},
     "output_type": "execute_result"
    }
   ],
   "source": [
    "model.fit(x_t,y_t_hot,epochs=20,validation_data=(x_v,y_v_hot))"
   ]
  },
  {
   "cell_type": "code",
   "execution_count": 27,
   "metadata": {},
   "outputs": [
    {
     "name": "stdout",
     "output_type": "stream",
     "text": [
      "Train on 6012 samples, validate on 1504 samples\n",
      "Epoch 1/20\n",
      "6012/6012 [==============================] - 20s 3ms/step - loss: 0.8270 - acc: 0.7347 - val_loss: 1.4062 - val_acc: 0.5406\n",
      "Epoch 2/20\n",
      "6012/6012 [==============================] - 22s 4ms/step - loss: 0.8379 - acc: 0.7247 - val_loss: 1.5674 - val_acc: 0.5299\n",
      "Epoch 3/20\n",
      "6012/6012 [==============================] - 37s 6ms/step - loss: 0.7598 - acc: 0.7595 - val_loss: 1.4362 - val_acc: 0.4787\n",
      "Epoch 4/20\n",
      "6012/6012 [==============================] - 27s 4ms/step - loss: 0.6637 - acc: 0.7949 - val_loss: 1.5548 - val_acc: 0.5366\n",
      "Epoch 5/20\n",
      "6012/6012 [==============================] - 19s 3ms/step - loss: 0.6319 - acc: 0.8051 - val_loss: 1.3623 - val_acc: 0.5366\n",
      "Epoch 6/20\n",
      "6012/6012 [==============================] - 31s 5ms/step - loss: 0.5078 - acc: 0.8426 - val_loss: 1.5551 - val_acc: 0.5632\n",
      "Epoch 7/20\n",
      "6012/6012 [==============================] - 25s 4ms/step - loss: 0.5864 - acc: 0.8182 - val_loss: 1.6728 - val_acc: 0.5346\n",
      "Epoch 8/20\n",
      "6012/6012 [==============================] - 20s 3ms/step - loss: 0.5475 - acc: 0.8382 - val_loss: 1.7206 - val_acc: 0.4481\n",
      "Epoch 9/20\n",
      "6012/6012 [==============================] - 19s 3ms/step - loss: 0.6913 - acc: 0.7971 - val_loss: 1.5965 - val_acc: 0.5578\n",
      "Epoch 10/20\n",
      "6012/6012 [==============================] - 19s 3ms/step - loss: 0.4187 - acc: 0.8738 - val_loss: 1.7481 - val_acc: 0.5519\n",
      "Epoch 11/20\n",
      "6012/6012 [==============================] - 19s 3ms/step - loss: 0.4499 - acc: 0.8653 - val_loss: 1.5853 - val_acc: 0.5711\n",
      "Epoch 12/20\n",
      "6012/6012 [==============================] - 20s 3ms/step - loss: 0.3375 - acc: 0.8989 - val_loss: 1.8719 - val_acc: 0.5452\n",
      "Epoch 13/20\n",
      "6012/6012 [==============================] - 20s 3ms/step - loss: 0.2780 - acc: 0.9218 - val_loss: 2.6898 - val_acc: 0.5086\n",
      "Epoch 14/20\n",
      "6012/6012 [==============================] - 20s 3ms/step - loss: 0.5592 - acc: 0.8385 - val_loss: 1.7785 - val_acc: 0.5319\n",
      "Epoch 15/20\n",
      "6012/6012 [==============================] - 20s 3ms/step - loss: 0.3428 - acc: 0.8982 - val_loss: 1.6756 - val_acc: 0.4448\n",
      "Epoch 16/20\n",
      "6012/6012 [==============================] - 20s 3ms/step - loss: 0.3411 - acc: 0.8974 - val_loss: 1.7505 - val_acc: 0.5638\n",
      "Epoch 17/20\n",
      "6012/6012 [==============================] - 20s 3ms/step - loss: 0.3034 - acc: 0.9070 - val_loss: 1.8933 - val_acc: 0.5705\n",
      "Epoch 18/20\n",
      "6012/6012 [==============================] - 20s 3ms/step - loss: 0.1646 - acc: 0.9519 - val_loss: 2.0675 - val_acc: 0.5585\n",
      "Epoch 19/20\n",
      "6012/6012 [==============================] - 20s 3ms/step - loss: 0.1760 - acc: 0.9553 - val_loss: 2.2215 - val_acc: 0.5459\n",
      "Epoch 20/20\n",
      "6012/6012 [==============================] - 20s 3ms/step - loss: 1.3200 - acc: 0.5116 - val_loss: 1.5611 - val_acc: 0.5153\n"
     ]
    },
    {
     "data": {
      "text/plain": [
       "<keras.callbacks.History at 0x93e6679e80>"
      ]
     },
     "execution_count": 27,
     "metadata": {},
     "output_type": "execute_result"
    }
   ],
   "source": [
    "model.fit(x_t,y_t_hot,epochs=20,validation_data=(x_v,y_v_hot))"
   ]
  },
  {
   "cell_type": "code",
   "execution_count": 28,
   "metadata": {},
   "outputs": [
    {
     "name": "stdout",
     "output_type": "stream",
     "text": [
      "1504/1504 [==============================] - 1s 577us/step\n"
     ]
    },
    {
     "data": {
      "text/plain": [
       "[1.561068796096964, 0.5152925531914894]"
      ]
     },
     "execution_count": 28,
     "metadata": {},
     "output_type": "execute_result"
    }
   ],
   "source": [
    "model.evaluate(x_v,y_v_hot)"
   ]
  },
  {
   "cell_type": "code",
   "execution_count": null,
   "metadata": {},
   "outputs": [],
   "source": []
  }
 ],
 "metadata": {
  "kernelspec": {
   "display_name": "Python 3",
   "language": "python",
   "name": "python3"
  },
  "language_info": {
   "codemirror_mode": {
    "name": "ipython",
    "version": 3
   },
   "file_extension": ".py",
   "mimetype": "text/x-python",
   "name": "python",
   "nbconvert_exporter": "python",
   "pygments_lexer": "ipython3",
   "version": "3.7.3"
  }
 },
 "nbformat": 4,
 "nbformat_minor": 2
}
