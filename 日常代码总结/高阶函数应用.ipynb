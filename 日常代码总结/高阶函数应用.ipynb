{
 "cells": [
  {
   "cell_type": "markdown",
   "metadata": {},
   "source": [
    "# lambda表达式\n",
    "匿名函数\n",
    "格式： lambda 参数列表:函数体"
   ]
  },
  {
   "cell_type": "code",
   "execution_count": 1,
   "metadata": {},
   "outputs": [
    {
     "name": "stdout",
     "output_type": "stream",
     "text": [
      "7\n"
     ]
    }
   ],
   "source": [
    "def add(a,b):\n",
    "    return a+b\n",
    "\n",
    "print(add(3,4))"
   ]
  },
  {
   "cell_type": "code",
   "execution_count": 2,
   "metadata": {},
   "outputs": [
    {
     "data": {
      "text/plain": [
       "7"
      ]
     },
     "execution_count": 2,
     "metadata": {},
     "output_type": "execute_result"
    }
   ],
   "source": [
    "add_lambda=lambda x,y:x+y\n",
    "add_lambda(3,4)"
   ]
  },
  {
   "cell_type": "markdown",
   "metadata": {},
   "source": [
    "# 三元运算符"
   ]
  },
  {
   "cell_type": "code",
   "execution_count": 3,
   "metadata": {},
   "outputs": [
    {
     "name": "stdout",
     "output_type": "stream",
     "text": [
      "1\n"
     ]
    }
   ],
   "source": [
    "condition = True\n",
    "print(1 if condition else 2)"
   ]
  },
  {
   "cell_type": "code",
   "execution_count": 4,
   "metadata": {},
   "outputs": [
    {
     "name": "stdout",
     "output_type": "stream",
     "text": [
      "2\n"
     ]
    }
   ],
   "source": [
    "condition = False\n",
    "print(1 if condition else 2)"
   ]
  },
  {
   "cell_type": "markdown",
   "metadata": {},
   "source": [
    "# map函数应用"
   ]
  },
  {
   "cell_type": "code",
   "execution_count": 5,
   "metadata": {},
   "outputs": [
    {
     "name": "stdout",
     "output_type": "stream",
     "text": [
      "[2, 4, 6, 8, 10]\n"
     ]
    }
   ],
   "source": [
    "list1=[1,2,3,4,5]\n",
    "r=map(lambda x: x+x,list1)\n",
    "print(list(r))"
   ]
  },
  {
   "cell_type": "code",
   "execution_count": 6,
   "metadata": {},
   "outputs": [
    {
     "name": "stdout",
     "output_type": "stream",
     "text": [
      "[7, 9, 11, 13, 15]\n"
     ]
    }
   ],
   "source": [
    "m1=map(lambda x,y:x+y,[1,2,3,4,5],[6,7,8,9,10])\n",
    "print(list(m1))"
   ]
  },
  {
   "cell_type": "markdown",
   "metadata": {},
   "source": [
    "# filter过滤器"
   ]
  },
  {
   "cell_type": "code",
   "execution_count": 7,
   "metadata": {},
   "outputs": [],
   "source": [
    "def is_not_none(s):\n",
    "    return s and len(s.strip())>0"
   ]
  },
  {
   "cell_type": "code",
   "execution_count": 8,
   "metadata": {},
   "outputs": [
    {
     "name": "stdout",
     "output_type": "stream",
     "text": [
      "['hello', 'ai']\n"
     ]
    }
   ],
   "source": [
    "list2=['',' ','hello','ai',None]\n",
    "re=filter(is_not_none,list2)\n",
    "print(list(re))"
   ]
  },
  {
   "cell_type": "markdown",
   "metadata": {},
   "source": [
    "# reduce函数"
   ]
  },
  {
   "cell_type": "code",
   "execution_count": 9,
   "metadata": {},
   "outputs": [
    {
     "name": "stdout",
     "output_type": "stream",
     "text": [
      "15\n"
     ]
    }
   ],
   "source": [
    "from functools import reduce\n",
    "f=lambda x,y:x+y\n",
    "r=reduce(f,[1,2,3,4,5])\n",
    "print(r)"
   ]
  },
  {
   "cell_type": "code",
   "execution_count": 10,
   "metadata": {},
   "outputs": [
    {
     "name": "stdout",
     "output_type": "stream",
     "text": [
      "25\n"
     ]
    }
   ],
   "source": [
    "f=lambda x,y:x+y\n",
    "r=reduce(f,[1,2,3,4,5],10)\n",
    "print(r)"
   ]
  },
  {
   "cell_type": "markdown",
   "metadata": {},
   "source": [
    "# 列表推导式\n",
    "根据已有列表推导出新的列表"
   ]
  },
  {
   "cell_type": "code",
   "execution_count": 11,
   "metadata": {},
   "outputs": [
    {
     "name": "stdout",
     "output_type": "stream",
     "text": [
      "[2, 4, 6, 8, 10]\n"
     ]
    }
   ],
   "source": [
    "list1=[1,2,3,4,5]\n",
    "list2=[i+i for i in list1]\n",
    "print(list2)"
   ]
  },
  {
   "cell_type": "code",
   "execution_count": 12,
   "metadata": {},
   "outputs": [
    {
     "name": "stdout",
     "output_type": "stream",
     "text": [
      "[8, 10]\n"
     ]
    }
   ],
   "source": [
    "#有选择性的删选\n",
    "list4=[i+i for i in list1 if i>3]\n",
    "print(list4)"
   ]
  },
  {
   "cell_type": "markdown",
   "metadata": {},
   "source": [
    "# 集合推导式"
   ]
  },
  {
   "cell_type": "code",
   "execution_count": 13,
   "metadata": {},
   "outputs": [
    {
     "name": "stdout",
     "output_type": "stream",
     "text": [
      "{2, 4, 6, 8, 10}\n"
     ]
    }
   ],
   "source": [
    "list1={1,2,3,4,5}\n",
    "list2={i+i for i in list1}\n",
    "print(list2)"
   ]
  },
  {
   "cell_type": "markdown",
   "metadata": {},
   "source": [
    "# 字典推导式"
   ]
  },
  {
   "cell_type": "code",
   "execution_count": 14,
   "metadata": {},
   "outputs": [],
   "source": [
    "s={\n",
    "    'name':'w',\n",
    "    'age':18\n",
    "}"
   ]
  },
  {
   "cell_type": "code",
   "execution_count": 15,
   "metadata": {},
   "outputs": [
    {
     "name": "stdout",
     "output_type": "stream",
     "text": [
      "['name', 'age']\n"
     ]
    }
   ],
   "source": [
    "#拿出所有的key\n",
    "s_key=[key for key,_ in s.items()]\n",
    "print(s_key)"
   ]
  },
  {
   "cell_type": "code",
   "execution_count": 16,
   "metadata": {},
   "outputs": [
    {
     "name": "stdout",
     "output_type": "stream",
     "text": [
      "{'w': 'name', 18: 'age'}\n"
     ]
    }
   ],
   "source": [
    "#颠倒key,value\n",
    "s1={val:k for k,val in s.items()}\n",
    "print(s1)"
   ]
  },
  {
   "cell_type": "code",
   "execution_count": 17,
   "metadata": {},
   "outputs": [
    {
     "name": "stdout",
     "output_type": "stream",
     "text": [
      "{'age': 18}\n"
     ]
    }
   ],
   "source": [
    "#只拿出符合条件的值\n",
    "s2={k:v for k,v in s.items() if k=='age'}\n",
    "print(s2)"
   ]
  },
  {
   "cell_type": "markdown",
   "metadata": {},
   "source": [
    "# 闭包\n",
    "一个返回值是函数的函数"
   ]
  },
  {
   "cell_type": "code",
   "execution_count": 18,
   "metadata": {},
   "outputs": [
    {
     "name": "stdout",
     "output_type": "stream",
     "text": [
      "1569843998.1086974\n"
     ]
    }
   ],
   "source": [
    "#掉用后打印当前时间\n",
    "import time\n",
    "\n",
    "def runtime():\n",
    "    def now_time():\n",
    "        print(time.time())\n",
    "    return now_time\n",
    "\n",
    "f=runtime()#f是一个函数(now_time)\n",
    "f()"
   ]
  },
  {
   "cell_type": "code",
   "execution_count": 19,
   "metadata": {},
   "outputs": [
    {
     "name": "stdout",
     "output_type": "stream",
     "text": [
      "['8iu', 'er8', '568']\n"
     ]
    }
   ],
   "source": [
    "def make_filter(keep):\n",
    "    def the_filter(fn):\n",
    "        f=open(fn)\n",
    "        lines=f.readlines()\n",
    "        f.close()\n",
    "        list1=[i.replace('\\n','') for i in lines if i.find(keep)>=0]\n",
    "        return list1\n",
    "    return the_filter\n",
    "\n",
    "f1=make_filter('8')\n",
    "f11=f1('a.txt')\n",
    "print(f11)"
   ]
  },
  {
   "cell_type": "markdown",
   "metadata": {},
   "source": [
    "# 装饰器，语法糖，注解"
   ]
  },
  {
   "cell_type": "code",
   "execution_count": 20,
   "metadata": {},
   "outputs": [
    {
     "name": "stdout",
     "output_type": "stream",
     "text": [
      "1569843998.1377187\n",
      "student\n"
     ]
    }
   ],
   "source": [
    "#获取函数运行时间\n",
    "def runtime(func):\n",
    "    def get_time():\n",
    "        print(time.time())\n",
    "        func()\n",
    "    return get_time\n",
    "\n",
    "@runtime\n",
    "def stu_func():\n",
    "    print('student')\n",
    "\n",
    "stu_func()"
   ]
  },
  {
   "cell_type": "code",
   "execution_count": 21,
   "metadata": {},
   "outputs": [
    {
     "name": "stdout",
     "output_type": "stream",
     "text": [
      "1569843998.1537304\n",
      "student: tom\n",
      "1569843998.1547306\n",
      "student: jerry hello\n"
     ]
    }
   ],
   "source": [
    "#有参数的装饰器\n",
    "\n",
    "def runtime(func):\n",
    "    def get_time(*args):\n",
    "        print(time.time())\n",
    "        func(*args)\n",
    "    return get_time\n",
    "\n",
    "@runtime\n",
    "def stu_func1(i):\n",
    "    print('student:',i)\n",
    "\n",
    "@runtime\n",
    "def stu_func2(i,j):\n",
    "    print('student:',i,j)   \n",
    "    \n",
    "stu_func1('tom')\n",
    "stu_func2('jerry','hello')"
   ]
  },
  {
   "cell_type": "code",
   "execution_count": 22,
   "metadata": {},
   "outputs": [
    {
     "name": "stdout",
     "output_type": "stream",
     "text": [
      "1569843998.1867528\n",
      "student1\n",
      "1569843998.187754\n",
      "student2\n"
     ]
    }
   ],
   "source": [
    "#关键字参数\n",
    "\n",
    "def runtime(func):\n",
    "    def get_time(*args,**kwargs):\n",
    "        print(time.time())\n",
    "        func(*args,**kwargs)\n",
    "    return get_time\n",
    "\n",
    "@runtime\n",
    "def stu_func1(*args,**kwargs):\n",
    "    print('student1')\n",
    "\n",
    "@runtime\n",
    "def stu_func2(*args,**kwargs):\n",
    "    print('student2')   \n",
    "    \n",
    "stu_func1('tom')\n",
    "stu_func2('jerry','hello')"
   ]
  },
  {
   "cell_type": "code",
   "execution_count": null,
   "metadata": {},
   "outputs": [],
   "source": []
  }
 ],
 "metadata": {
  "kernelspec": {
   "display_name": "Python 3",
   "language": "python",
   "name": "python3"
  },
  "language_info": {
   "codemirror_mode": {
    "name": "ipython",
    "version": 3
   },
   "file_extension": ".py",
   "mimetype": "text/x-python",
   "name": "python",
   "nbconvert_exporter": "python",
   "pygments_lexer": "ipython3",
   "version": "3.7.3"
  }
 },
 "nbformat": 4,
 "nbformat_minor": 2
}
