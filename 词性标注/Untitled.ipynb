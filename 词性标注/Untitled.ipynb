{
 "cells": [
  {
   "cell_type": "code",
   "execution_count": 1,
   "metadata": {},
   "outputs": [],
   "source": [
    "tag2id,id2tag={},{}#id和tag的映射\n",
    "#tag2id={'vn':0,'nnp':1}\n",
    "#id2tag={0:'vn',1:'nnp'}\n",
    "word2id,id2word={},{}"
   ]
  },
  {
   "cell_type": "code",
   "execution_count": 2,
   "metadata": {},
   "outputs": [],
   "source": [
    "for line in open('traindata.txt'):\n",
    "    items=line.split('/')\n",
    "    w,t=items[0],items[1].rstrip()\n",
    "    \n",
    "    if w not in word2id:\n",
    "        word2id[w]=len(word2id)\n",
    "        id2word[len(id2word)]=w\n",
    "    if t not in tag2id:\n",
    "        tag2id[t]=len(tag2id)\n",
    "        id2tag[len(id2tag)]=t\n",
    "m,n=len(word2id),len(tag2id)#m是词典大小，n是词性大小"
   ]
  },
  {
   "cell_type": "code",
   "execution_count": 3,
   "metadata": {},
   "outputs": [
    {
     "name": "stdout",
     "output_type": "stream",
     "text": [
      "18978 54\n"
     ]
    }
   ],
   "source": [
    "print(m,n)"
   ]
  },
  {
   "cell_type": "code",
   "execution_count": 4,
   "metadata": {},
   "outputs": [],
   "source": [
    "#构建 pi，a，b\n",
    "import numpy as np\n",
    "#pi表示每个词性出现在句子中第一个词的概率是多少\n",
    "pi=np.zeros(n)\n",
    "#a是n*m行矩阵，表示每个单词对应每个词性的概率是多少,a[i,j]表示给定tag i，出现单词j的概率\n",
    "a=np.zeros((n,m))\n",
    "#b是n*n矩阵，b[i,j]表示在tag i的前提下之后是tag j的概率\n",
    "b=np.zeros((n,n))"
   ]
  },
  {
   "cell_type": "code",
   "execution_count": 5,
   "metadata": {},
   "outputs": [],
   "source": [
    "prev_tag=''\n",
    "for line in open('traindata.txt'):\n",
    "    #print(line)\n",
    "    items=line.split('/')\n",
    "    #print(items[0],items[1].rstrip())\n",
    "    wordId,tagId=word2id[items[0]],tag2id[items[1].rstrip()]\n",
    "    if prev_tag=='':#句子开始\n",
    "        pi[tagId]+=1\n",
    "        a[tagId,wordId]+=1\n",
    "    else:#不是句子开头\n",
    "        a[tagId,wordId]+=1\n",
    "        b[tag2id[prev_tag],tagId]+=1\n",
    "    if items[0]=='.':\n",
    "        prev_tag=''\n",
    "    else:\n",
    "        prev_tag=items[1].rstrip()"
   ]
  },
  {
   "cell_type": "code",
   "execution_count": 6,
   "metadata": {},
   "outputs": [],
   "source": [
    "#求概率\n",
    "pi /= len(pi)\n",
    "for i in range(n):\n",
    "    a[i] /= sum(a[i])\n",
    "    b[i] /= sum(b[i])"
   ]
  },
  {
   "cell_type": "code",
   "execution_count": 7,
   "metadata": {},
   "outputs": [],
   "source": [
    "def log(v):\n",
    "    if v==0: return np.log(v+0.00000001)\n",
    "    return np.log(v)"
   ]
  },
  {
   "cell_type": "code",
   "execution_count": 8,
   "metadata": {},
   "outputs": [],
   "source": [
    "def viterbi(x,pi,a,b):\n",
    "    '''\n",
    "    x:输入的句子\n",
    "    pi:tag出现在句首的概率\n",
    "    a:给定tag，每个单词出现的概率\n",
    "    b:tag之间的转移方程\n",
    "    '''\n",
    "    x=[word2id[w] for w in x.split(' ')]\n",
    "    t=len(x)\n",
    "    \n",
    "    dp=np.zeros((t,n))#dp[i][j]:w1..wi,假设wi的tag是第j个tag\n",
    "    \n",
    "    for j in range(n):\n",
    "        dp[0][j]=log(pi[j])+log(a[j][x[0]])\n",
    "    \n",
    "    path=np.zeros((t,n),dtype=np.int)\n",
    "    for i in range(1,t):#每个单词\n",
    "        for j in range(n):#每个词性\n",
    "            dp[i][j]=-999999\n",
    "            for k in range(n):#每一个k可以到达j的所有情况\n",
    "                score=dp[i-1][k]+log(b[k][j])+log(a[j][x[i]])\n",
    "                if score>dp[i][j]:\n",
    "                    dp[i][j]=score\n",
    "                    path[i][j]=k\n",
    "    \n",
    "    best_tag=[0]*t\n",
    "    best_tag[t-1]=np.argmax(dp[t-1])\n",
    "    \n",
    "    for i in range(t-2,-1,-1):\n",
    "        best_tag[i]=path[i+1,best_tag[i+1]]\n",
    "    \n",
    "    #print(best_tag)\n",
    "    for i in best_tag:\n",
    "        print(id2tag[i])\n",
    "    "
   ]
  },
  {
   "cell_type": "code",
   "execution_count": 9,
   "metadata": {},
   "outputs": [
    {
     "name": "stdout",
     "output_type": "stream",
     "text": [
      "NNP\n",
      "NNP\n",
      "NN\n",
      ",\n",
      "NN\n",
      "NN\n",
      "CC\n",
      "NNS\n",
      "IN\n",
      "DT\n",
      "NNS\n",
      "VBN\n",
      "IN\n",
      "DT\n",
      "NN\n"
     ]
    }
   ],
   "source": [
    "x='Social Security number , passport number and details about the services provided for the payment'\n",
    "viterbi(x,pi,a,b)"
   ]
  },
  {
   "cell_type": "code",
   "execution_count": null,
   "metadata": {},
   "outputs": [],
   "source": []
  }
 ],
 "metadata": {
  "kernelspec": {
   "display_name": "Python 3",
   "language": "python",
   "name": "python3"
  },
  "language_info": {
   "codemirror_mode": {
    "name": "ipython",
    "version": 3
   },
   "file_extension": ".py",
   "mimetype": "text/x-python",
   "name": "python",
   "nbconvert_exporter": "python",
   "pygments_lexer": "ipython3",
   "version": "3.7.3"
  }
 },
 "nbformat": 4,
 "nbformat_minor": 2
}
